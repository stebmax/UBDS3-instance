{
 "cells": [
  {
   "cell_type": "markdown",
   "id": "b83a457e-41cd-49cc-9876-5f5cba2e1a60",
   "metadata": {},
   "source": [
    "This program opens a txt file with some unstructured text and extracts all computer-science-related terms and definitions from it into a database. It was actually an English assignment for a friend of mine who is a computer scientist. He had to learn all this definitions by heart and then retell them during the test. Since the file is so big and written in plane text, it was hard for my friend to navigate through it quickly so as to cheat during the test. That's why I have written this program that reads through the file, automatically detects all words and definitions and stores them in a database with the ability to find the needed words quickly. The problem was that the file itself turned out to be unstructured, and detecting words and definitions was not as easy as I had thought. Some typos had been made by a teacher, as well as there were no distinct boundaries between definitions. So I had to come up with an algorithm that would extract, clean and load the data into a database.    "
   ]
  },
  {
   "cell_type": "markdown",
   "id": "19c096c2-2778-4ee5-be22-669fbc6b9911",
   "metadata": {},
   "source": [
    "IMPORTING LIBRARIES, CREATING DATABASE AND CONNECTING TO IT"
   ]
  },
  {
   "cell_type": "code",
   "execution_count": 1,
   "id": "59922a82-014f-4619-8017-669c7000d8da",
   "metadata": {},
   "outputs": [
    {
     "data": {
      "text/plain": [
       "<sqlite3.Cursor at 0x1ab09e46dc0>"
      ]
     },
     "execution_count": 1,
     "metadata": {},
     "output_type": "execute_result"
    }
   ],
   "source": [
    "import sqlite3\n",
    "import re\n",
    "\n",
    "connection = sqlite3.connect('dictionary.sqlite')\n",
    "cur = connection.cursor()\n",
    "\n",
    "definition = None\n",
    "id_count = 0\n",
    "true_count = 0\n",
    "false_count = 0\n",
    "keys = ('abr', 'adr', 'ajd', 'avd', 'arb', 'ard', 'n', 'v', 'adj', 'adv', '\\(n\\)', '\\(.+\\)', 'a\\s|\\san\\s|\\sthe')\n",
    "\n",
    "cur.executescript('''DROP TABLE IF EXISTS Dictionary;\n",
    "\tCREATE TABLE Dictionary(\n",
    "\tword TEXT NOT NULL PRIMARY KEY UNIQUE, definition TEXT, category TEXT)''')"
   ]
  },
  {
   "cell_type": "markdown",
   "id": "f7c46691-a9ed-49d2-bf1f-1beefe744f33",
   "metadata": {},
   "source": [
    "OPENING RAW .TXT FILE FROM WHICH WE WILL EXTRACT OUR WORDS AND DEFINITIONS"
   ]
  },
  {
   "cell_type": "code",
   "execution_count": 2,
   "id": "71f4c0f2-abd9-4b44-a9f5-7872ec884ce8",
   "metadata": {},
   "outputs": [
    {
     "name": "stdout",
     "output_type": "stream",
     "text": [
      "File glossary.txt was opened successfully\n",
      "\n"
     ]
    }
   ],
   "source": [
    "filename = 'glossary.txt'\n",
    "try:\n",
    "\tfile = open(filename, 'r')\n",
    "\tprint('File %s was opened successfully\\n' % filename)\n",
    "except:\n",
    "\tprint('ERROR: File %s was not found\\n' % filename)\n",
    "\tquit()"
   ]
  },
  {
   "cell_type": "markdown",
   "id": "f89476a3-9167-45af-bf45-531286a7734a",
   "metadata": {},
   "source": [
    "AUTOMATICALLY LOCATING AND EXTRACTING WORDS AND THEIR DEFINITIONS FROM A .TXT FILE, CLEANING AND LOADING THEM INTO THE DATABASE"
   ]
  },
  {
   "cell_type": "code",
   "execution_count": 3,
   "id": "9f0cc14d-9b26-4279-a3a7-fcb9e50c07dc",
   "metadata": {},
   "outputs": [
    {
     "name": "stdout",
     "output_type": "stream",
     "text": [
      "-----------------\n",
      "  RESULTS:\n",
      "  Total extracted words: 612\n",
      "-----------------\n",
      "\n",
      "========================================= DICTIONARY 3000 ==============================================\n",
      "\n",
      "Dictionary glossary.txt is ready to be used.\n"
     ]
    }
   ],
   "source": [
    "#SPLITTING TEXT INTO WORDS \n",
    "for line in file:\n",
    "\tline = line.rstrip()\n",
    "\tline_work = line.replace('.', ' ').rstrip().lower()\n",
    "\twords = line_work.split()\n",
    "\tif len(words) < 2: continue\n",
    "\tid_count += 1\n",
    "\n",
    "\tpresence = False\n",
    "\tfor key in keys:\n",
    "\t\tquery = '\\s%s\\s' % key\n",
    "\t\tmatch = re.findall(query, line_work)\n",
    "\t\tif len(match) > 0:\n",
    "\t\t\ttrue_count += 1\n",
    "\t\t\tpresence = True\n",
    "\t\t\tidentifier = line_work.index(match[0])\n",
    "\t\t\tbreak\n",
    "\n",
    "\tif not presence:\t\t\n",
    "\t\tprint('\\nERROR: COULD NOT INTERPRETE: ', line_work.strip())\n",
    "\t\tfalse_count += 1\n",
    "\n",
    "    #AUTOMATICALLY DETECTING WORDS AND THEIR DEFINITIONS\n",
    "\tterm = line[:identifier].strip().replace('.', ' ')\n",
    "\tcategories = [(' n ','noun'), (' (n) ','noun'), (' v ','verb'), (' (v) ','verb'), (' adj ','adjective'), (' abr ','abbreviation'), (' arb ','abbreviation'), (' adr ','abbreviation')]\n",
    "\tfor symbol, meaning in categories:\n",
    "\t\tif symbol in line_work:\n",
    "\t\t\tcategory = meaning\n",
    "\t\t\tline_work = line_work.replace(symbol, '')\n",
    "\t\t\tdefinition = line_work[identifier:].strip().capitalize()\n",
    "\t\t\tbreak\n",
    "\t\telse:\n",
    "\t\t\tcategory = None\n",
    "\t\t\tdefinition = line_work[identifier:].strip().capitalize()\n",
    "    \n",
    "    #DETECTING MISTAKES AND CLEANING THE DATA \n",
    "\tif definition.startswith('('):\n",
    "\t\tabr_pos = definition.index(')')\n",
    "\t\tabr = definition[:abr_pos + 1]\n",
    "\t\tdefinition = definition[abr_pos + 1:].strip().capitalize()\n",
    "\t\tterm = term + ' ' + abr.upper()\n",
    "\n",
    "\tif (term[-1] == '1') and ('2' in definition or '2.' in definition):\n",
    "\t\tterm = term[:-1]\n",
    "\t\tdefinition = '1. ' + definition\n",
    "\n",
    "\tterm = term[0].upper() + term[1:]\n",
    "\tdefinition = definition.replace('  ', '. ')\n",
    "    \n",
    "    #INSERTING CLEANED WORDS AND DEFINITIONS INTO A DATABASE\n",
    "\tcur.execute('''INSERT INTO Dictionary(word, definition, category) VALUES (?, ?, ?)''', (term, definition, category))\n",
    "\tconnection.commit()\n",
    "\n",
    "print('-----------------\\n  RESULTS:\\n  Total extracted words: %i\\n-----------------\\n' % id_count)\n",
    "print('========================================= DICTIONARY 3000 ==============================================\\n')\n",
    "print('Dictionary %s is ready to be used.' % filename)"
   ]
  },
  {
   "cell_type": "markdown",
   "id": "85903ad9-a41e-4248-97a4-0f323d889026",
   "metadata": {},
   "source": [
    "CREATING A SIMPLE USER INTERFACE FOR OUR DICTIONARY"
   ]
  },
  {
   "cell_type": "code",
   "execution_count": null,
   "id": "fca45241-18e2-411f-8cee-02e9ab764e09",
   "metadata": {},
   "outputs": [
    {
     "name": "stdout",
     "output_type": "stream",
     "text": [
      "\n",
      "Enter the word related to programming and you will get a definition.\n",
      "You can search for as many words as you want to.\n",
      "Please enter one word at a time.\n",
      "You can also type a part of the word and I will try to find it.\n"
     ]
    },
    {
     "name": "stdin",
     "output_type": "stream",
     "text": [
      "\n",
      "Enter the word:  database\n"
     ]
    },
    {
     "name": "stdout",
     "output_type": "stream",
     "text": [
      "----------------------------------------------------------------------------------\n",
      "Entered word: database\n",
      "\n",
      "\n",
      "1. DATABASE (noun): A file of structured data\n",
      "\n",
      "2. DATABASE PROGRAM (noun): An applications program used to store, organize and retrieve a large collection of data. among other facilities, data can be searched, sorted and updated\n",
      "\n",
      "3. RELATIONAL DATABASE (noun): A database system that maintains separate, related files (tables), but combines data elements from the files for queries and reports\n"
     ]
    },
    {
     "name": "stdin",
     "output_type": "stream",
     "text": [
      "\n",
      "Enter the word:  pizza\n"
     ]
    },
    {
     "name": "stdout",
     "output_type": "stream",
     "text": [
      "----------------------------------------------------------------------------------\n",
      "Entered word: pizza\n",
      "\n",
      "\n",
      "I have not found that word. Please, try again\n"
     ]
    },
    {
     "name": "stdin",
     "output_type": "stream",
     "text": [
      "\n",
      "Enter the word:  code\n"
     ]
    },
    {
     "name": "stdout",
     "output_type": "stream",
     "text": [
      "----------------------------------------------------------------------------------\n",
      "Entered word: code\n",
      "\n",
      "\n",
      "1. ASCII CODE (noun): A standard system for the binary representation of characters. ascii, which stands for american standard code for information interchange, permits computers from different manufacturers to exchange data, aspect ratio width of the screen divided by its height, e g. 4:3 (standard pc monitor or tv set) and 16:9 (high-definition tv), assembler a special program that converts a program written in a low-level language into machine code, assembly language a low-level language that uses abbreviations, such as add, sub and mpy, to represent instructions\n",
      "\n",
      "2. BAR CODE READER (noun): A specialized scanner used to read price labels in shops\n",
      "\n",
      "3. BINARY CODE (noun): A code made of just two numbers (0 and 1)\n",
      "\n",
      "4. MACHINE CODE (noun): Binary code numbers; the only language that computers can understand directly\n",
      "\n",
      "5. SOURCE CODE (noun): 1. computer instructions written in a high-level language like c or pascal. 2. the html codes of a web page\n"
     ]
    },
    {
     "name": "stdin",
     "output_type": "stream",
     "text": [
      "\n",
      "Enter the word:  python\n"
     ]
    },
    {
     "name": "stdout",
     "output_type": "stream",
     "text": [
      "----------------------------------------------------------------------------------\n",
      "Entered word: python\n",
      "\n",
      "\n",
      "1. PYTHON (noun): A popular high-level programming language\n"
     ]
    }
   ],
   "source": [
    "while True:\n",
    "\tprint('\\nEnter the word related to programming and you will get a definition.\\nYou can search for as many words as you want to.\\nPlease enter one word at a time.\\nYou can also type a part of the word and I will try to find it.')\n",
    "\twhile True:\n",
    "        #ASKING USER FOR A WORD\n",
    "\t\tword = input('\\nEnter the word: ').strip().lower()\n",
    "\n",
    "        #SEARCHING AND RETURNING THE WORD\n",
    "\t\tcur.execute('''SELECT word FROM Dictionary ORDER BY word''')\n",
    "\t\twordlist = cur.fetchall()\n",
    "\t\tsuccess = False\n",
    "\t\tcount = 1\n",
    "\t\tprint('----------------------------------------------------------------------------------\\nEntered word: %s\\n' % word)\n",
    "\t\tfor value in wordlist:\n",
    "\t\t\tif word in value[0].lower():\n",
    "\t\t\t\tsuccess = True\n",
    "\t\t\t\tcur.execute('''SELECT definition, category FROM Dictionary WHERE word = ? ORDER BY word''', (value[0],))\n",
    "\t\t\t\treturns = cur.fetchall()\n",
    "\t\t\t\tif returns[0][1] == None:\n",
    "\t\t\t\t\tprint('\\n%i. %s: %s' % (count, value[0].upper(), returns[0][0]))\n",
    "\t\t\t\t\tcount += 1\n",
    "\t\t\t\telse:\n",
    "\t\t\t\t\tprint('\\n%i. %s (%s): %s' % (count, value[0].upper(), returns[0][1], returns[0][0]))\n",
    "\t\t\t\t\tcount += 1\n",
    "\t\tif not success: \n",
    "\t\t\tprint('\\nI have not found that word. Please, try again')\n",
    "\tcontinue"
   ]
  },
  {
   "cell_type": "code",
   "execution_count": null,
   "id": "fa12386b-1d8c-471e-9122-84873a91acec",
   "metadata": {},
   "outputs": [],
   "source": []
  },
  {
   "cell_type": "code",
   "execution_count": null,
   "id": "1dfa4cb4-1a9a-41d1-a07a-90b4288ecee0",
   "metadata": {},
   "outputs": [],
   "source": []
  }
 ],
 "metadata": {
  "kernelspec": {
   "display_name": "Python 3 (ipykernel)",
   "language": "python",
   "name": "python3"
  },
  "language_info": {
   "codemirror_mode": {
    "name": "ipython",
    "version": 3
   },
   "file_extension": ".py",
   "mimetype": "text/x-python",
   "name": "python",
   "nbconvert_exporter": "python",
   "pygments_lexer": "ipython3",
   "version": "3.11.4"
  }
 },
 "nbformat": 4,
 "nbformat_minor": 5
}
